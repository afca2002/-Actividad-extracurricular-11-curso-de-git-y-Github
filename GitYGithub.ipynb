{
 "cells": [
  {
   "cell_type": "markdown",
   "metadata": {},
   "source": [
    "# [Actividad extracurricular 11] curso de git y Github\n",
    "\n",
    "## Nombre: Adrian Correa\n",
    "## fecha : 04/01/2025\n"
   ]
  },
  {
   "cell_type": "markdown",
   "metadata": {},
   "source": [
    "# Comandos básicos de Git\n",
    "\n",
    "- **`git init`**: Inicializa un nuevo repositorio Git en el directorio actual.\n",
    "- **`git clone <url>`**: Clona un repositorio remoto a tu máquina local.\n",
    "- **`git add <archivo>`**: Agrega un archivo al área de preparación (staging).\n",
    "- **`git add .`**: Agrega todos los archivos en el directorio actual al área de preparación.\n",
    "- **`git commit -m \"mensaje\"`**: Crea un commit con un mensaje descriptivo.\n",
    "- **`git status`**: Muestra el estado actual del repositorio (archivos modificados, preparados, etc.).\n",
    "- **`git log`**: Muestra el historial de commits.\n",
    "- **`git branch`**: Lista las ramas actuales.\n",
    "- **`git branch <nombre>`**: Crea una nueva rama con el nombre especificado.\n",
    "- **`git checkout <rama>`**: Cambia a la rama especificada.\n",
    "- **`git merge <rama>`**: Fusiona la rama especificada con la rama actual.\n",
    "- **`git pull`**: Descarga y fusiona los cambios desde el repositorio remoto.\n",
    "- **`git push`**: Sube los cambios al repositorio remoto.\n",
    "- **`git remote add origin <url>`**: Conecta el repositorio local con un remoto.\n",
    "- **`git diff`**: Muestra los cambios no comprometidos.\n",
    "\n",
    "# Comandos avanzados de Git\n",
    "\n",
    "- **`git stash`**: Guarda temporalmente los cambios no confirmados.\n",
    "- **`git stash apply`**: Recupera los cambios guardados en el stash.\n",
    "- **`git reset <archivo>`**: Elimina un archivo del área de preparación.\n",
    "- **`git reset --hard`**: Revierte el repositorio al último commit (¡Cuidado, es irreversible!).\n",
    "- **`git rebase <rama>`**: Aplica los cambios de otra rama sobre la rama actual.\n",
    "\n",
    "# Comandos útiles para GitHub\n",
    "\n",
    "- **`gh repo create`**: Crea un repositorio en GitHub desde la terminal.\n",
    "- **`gh repo clone <url>`**: Clona un repositorio desde GitHub.\n",
    "- **`gh issue create`**: Crea un nuevo issue en un repositorio.\n",
    "- **`gh pr create`**: Crea una pull request.\n"
   ]
  }
 ],
 "metadata": {
  "kernelspec": {
   "display_name": "Python 3",
   "language": "python",
   "name": "python3"
  },
  "language_info": {
   "codemirror_mode": {
    "name": "ipython",
    "version": 3
   },
   "file_extension": ".py",
   "mimetype": "text/x-python",
   "name": "python",
   "nbconvert_exporter": "python",
   "pygments_lexer": "ipython3",
   "version": "3.13.0"
  }
 },
 "nbformat": 4,
 "nbformat_minor": 2
}
